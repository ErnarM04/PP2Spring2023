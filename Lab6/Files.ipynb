{
 "cells": [
  {
   "cell_type": "code",
   "execution_count": null,
   "id": "fa4a797c-d4d6-4ac2-8ba1-1fb59c5cf784",
   "metadata": {},
   "outputs": [],
   "source": [
    "import os\n",
    "\n",
    "path = input()\n",
    "print(\"Directories:\")\n",
    "for dir_name in os.listdir(path):\n",
    "    if os.path.isdir(os.path.join(path, dir_name)):\n",
    "        print(dir_name)\n",
    "print(\"\\nFiles:\")\n",
    "for file_name in os.listdir(path):\n",
    "    if os.path.isfile(os.path.join(path, file_name)):\n",
    "        print(file_name)\n",
    "print(\"\\nAll Directories and Files:\")\n",
    "for name in os.listdir(path):\n",
    "    full_path = os.path.join(path, name)\n",
    "    if os.path.isdir(full_path):\n",
    "        print(\"[D] \" + name)\n",
    "    elif os.path.isfile(full_path):\n",
    "        print(\"[F] \" + name)"
   ]
  },
  {
   "cell_type": "code",
   "execution_count": null,
   "id": "cab1b22c-f0d2-4492-b10c-edd67e0ca7bd",
   "metadata": {},
   "outputs": [],
   "source": [
    "import os \n",
    "path = input()\n",
    "print(\"Exists the path:\", os.access(path, os.F_OK))\n",
    "print(\"Access to read:\", os.access(path, os.R_OK))\n",
    "print(\"Access to write:\", os.access(path, os.W_OK))\n",
    "print(\"Check if path can be executed:\", os.access(path, os.X_OK))"
   ]
  },
  {
   "cell_type": "code",
   "execution_count": null,
   "id": "a8d27411-f270-4678-82a3-31a1984a86d0",
   "metadata": {},
   "outputs": [],
   "source": [
    "import os\n",
    "path = input()\n",
    "if os.path.exists(path):\n",
    "   print(\"File exists\")\n",
    "   print(os.path.dirname(path))\n",
    "   print(open(path, \"r\").read())\n",
    "else: print(\"File doesn't exist\")"
   ]
  },
  {
   "cell_type": "code",
   "execution_count": null,
   "id": "339134fa-b672-49f5-b936-c339edc1dd00",
   "metadata": {},
   "outputs": [],
   "source": [
    "import os\n",
    "path = input()\n",
    "x = open(path, \"r\")\n",
    "lines = len(x.readlines())\n",
    "print(lines)"
   ]
  },
  {
   "cell_type": "code",
   "execution_count": null,
   "id": "a38ebe26-07bf-4abb-9bd8-42fde2ad8681",
   "metadata": {},
   "outputs": [],
   "source": [
    "lst = input().split()\n",
    "open(\"line.txt\", \"x\")\n",
    "f = open(\"line.txt\", \"a\")\n",
    "f.write(str(lst))\n",
    "f.close()"
   ]
  },
  {
   "cell_type": "code",
   "execution_count": null,
   "id": "04863379-b8d8-4029-be90-ccedcc31a55d",
   "metadata": {},
   "outputs": [],
   "source": [
    "for i in range(ord('Z') - ord('A')+1):\n",
    "    txt = \"{}.txt\"\n",
    "    open(txt.format(chr(65+i)), \"x\")"
   ]
  },
  {
   "cell_type": "code",
   "execution_count": null,
   "id": "87372bc8-8490-4db8-8bf9-61a4a6255531",
   "metadata": {},
   "outputs": [],
   "source": [
    "import os\n",
    "path = input()\n",
    "f = open(path, \"rt\")\n",
    "c = open(\"Copy.txt\", \"w\")\n",
    "c.write(f.read())\n",
    "c.close()"
   ]
  },
  {
   "cell_type": "code",
   "execution_count": null,
   "id": "d74acc88-a488-4cab-ba8f-2a876a1021f0",
   "metadata": {},
   "outputs": [],
   "source": [
    "import os\n",
    "path = input()\n",
    "if os.path.exists(path) and os.access(path, os.X_OK):\n",
    "   os.remove(path)\n",
    "else: print(\"File doesn't exist\")"
   ]
  }
 ],
 "metadata": {
  "kernelspec": {
   "display_name": "Python 3 (ipykernel)",
   "language": "python",
   "name": "python3"
  },
  "language_info": {
   "codemirror_mode": {
    "name": "ipython",
    "version": 3
   },
   "file_extension": ".py",
   "mimetype": "text/x-python",
   "name": "python",
   "nbconvert_exporter": "python",
   "pygments_lexer": "ipython3",
   "version": "3.9.12"
  }
 },
 "nbformat": 4,
 "nbformat_minor": 5
}
