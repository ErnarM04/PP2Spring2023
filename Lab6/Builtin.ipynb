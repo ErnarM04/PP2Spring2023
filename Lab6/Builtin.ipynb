{
 "cells": [
  {
   "cell_type": "code",
   "execution_count": 1,
   "id": "e4814b61-d8e1-479f-b8a1-a909c5a74e4f",
   "metadata": {},
   "outputs": [
    {
     "name": "stdin",
     "output_type": "stream",
     "text": [
      " 1 2 3 4 5 6\n"
     ]
    },
    {
     "name": "stdout",
     "output_type": "stream",
     "text": [
      "720\n"
     ]
    }
   ],
   "source": [
    "lst = input().split()\n",
    "sum = 1\n",
    "for i in range(len(lst)):\n",
    "    sum *= int(lst[i])\n",
    "print(sum)"
   ]
  },
  {
   "cell_type": "code",
   "execution_count": 2,
   "id": "36fc5ee0-8ab0-4014-b6b6-7d9160590184",
   "metadata": {},
   "outputs": [
    {
     "name": "stdin",
     "output_type": "stream",
     "text": [
      " ABc45\n"
     ]
    },
    {
     "name": "stdout",
     "output_type": "stream",
     "text": [
      "65669945"
     ]
    }
   ],
   "source": [
    "strg = input()\n",
    "for i in strg:\n",
    "    if i.isalpha():\n",
    "        i = ord(i)\n",
    "    print(i,end=\"\")"
   ]
  },
  {
   "cell_type": "code",
   "execution_count": 3,
   "id": "17423124-f255-4d87-9109-31269ce592ce",
   "metadata": {},
   "outputs": [
    {
     "name": "stdin",
     "output_type": "stream",
     "text": [
      " ABCBA\n"
     ]
    },
    {
     "name": "stdout",
     "output_type": "stream",
     "text": [
      "YES\n"
     ]
    }
   ],
   "source": [
    "strg = input()\n",
    "rev = strg[::-1]\n",
    "if strg == rev:\n",
    "    print(\"YES\")\n",
    "else: print(\"NO\")"
   ]
  },
  {
   "cell_type": "code",
   "execution_count": 4,
   "id": "1a52bee9-3078-451c-9453-5966c8c0206c",
   "metadata": {},
   "outputs": [
    {
     "name": "stdin",
     "output_type": "stream",
     "text": [
      " 25100\n",
      " 2123\n"
     ]
    },
    {
     "name": "stdout",
     "output_type": "stream",
     "text": [
      "Square root of 25100 after 2123 is 158.42979517754858\n"
     ]
    }
   ],
   "source": [
    "from math import sqrt\n",
    "time = int(input())\n",
    "milisec = int(input())\n",
    "print(\"Square root of\", time, \"after\", milisec, \"is\", sqrt(time))"
   ]
  },
  {
   "cell_type": "code",
   "execution_count": 6,
   "id": "3b871e97-9516-434d-ad08-513b95a50432",
   "metadata": {},
   "outputs": [
    {
     "name": "stdout",
     "output_type": "stream",
     "text": [
      "True\n",
      "False\n"
     ]
    }
   ],
   "source": [
    "tple1 = (1,True)\n",
    "tple2 = (0, True)\n",
    "print(all(tple1))\n",
    "print(all(tple2))"
   ]
  },
  {
   "cell_type": "code",
   "execution_count": null,
   "id": "8e4ace6d-1be2-4ee6-8682-471f809b273b",
   "metadata": {},
   "outputs": [],
   "source": []
  }
 ],
 "metadata": {
  "kernelspec": {
   "display_name": "Python 3 (ipykernel)",
   "language": "python",
   "name": "python3"
  },
  "language_info": {
   "codemirror_mode": {
    "name": "ipython",
    "version": 3
   },
   "file_extension": ".py",
   "mimetype": "text/x-python",
   "name": "python",
   "nbconvert_exporter": "python",
   "pygments_lexer": "ipython3",
   "version": "3.9.12"
  }
 },
 "nbformat": 4,
 "nbformat_minor": 5
}
