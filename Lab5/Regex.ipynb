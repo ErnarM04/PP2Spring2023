{
 "cells": [
  {
   "cell_type": "code",
   "execution_count": 1,
   "id": "2d0744e3-bacd-4176-b11f-f75ecc4aacaa",
   "metadata": {},
   "outputs": [
    {
     "name": "stdin",
     "output_type": "stream",
     "text": [
      " sdfghjabdfghj\n"
     ]
    },
    {
     "name": "stdout",
     "output_type": "stream",
     "text": [
      "has the pattern.\n"
     ]
    }
   ],
   "source": [
    "import re\n",
    "strg = input()\n",
    "pattern = r'a+b'\n",
    "match = re.findall(pattern, strg)\n",
    "if match:\n",
    "    print(\"has the pattern.\")\n",
    "else:\n",
    "    print(\"doesnt have the pattern.\")"
   ]
  },
  {
   "cell_type": "code",
   "execution_count": 2,
   "id": "69f527dc-7228-42bf-bce7-aa46097503dc",
   "metadata": {},
   "outputs": [
    {
     "name": "stdin",
     "output_type": "stream",
     "text": [
      " dsfsdabbbafrfasfs\n"
     ]
    },
    {
     "name": "stdout",
     "output_type": "stream",
     "text": [
      "has the pattern\n"
     ]
    }
   ],
   "source": [
    "import re\n",
    "strg = input()\n",
    "pattern = r'a[b]{2,3}'\n",
    "match = re.findall(pattern, strg)\n",
    "if match:\n",
    "    print(\"has the pattern\")\n",
    "else:\n",
    "    print(\"has no the pattern\")"
   ]
  },
  {
   "cell_type": "code",
   "execution_count": 4,
   "id": "16935c9f-ffaa-4171-bc28-fb99403bcb00",
   "metadata": {},
   "outputs": [
    {
     "name": "stdin",
     "output_type": "stream",
     "text": [
      " xcvhg_gvvgvg\n"
     ]
    },
    {
     "name": "stdout",
     "output_type": "stream",
     "text": [
      "<re.Match object; span=(4, 7), match='g_g'>\n"
     ]
    }
   ],
   "source": [
    "import re\n",
    "strg = input()\n",
    "pattern = r'[a-z]_[a-z]'\n",
    "match = re.search(pattern, strg)\n",
    "print(match)"
   ]
  },
  {
   "cell_type": "code",
   "execution_count": 5,
   "id": "098aa8a1-cece-4afe-9973-4d413b7a007a",
   "metadata": {},
   "outputs": [
    {
     "name": "stdin",
     "output_type": "stream",
     "text": [
      " xgfgFjghhg\n"
     ]
    },
    {
     "name": "stdout",
     "output_type": "stream",
     "text": [
      "<re.Match object; span=(4, 6), match='Fj'>\n"
     ]
    }
   ],
   "source": [
    "import re\n",
    "strg = input()\n",
    "pattern = r'[A-Z][a-z]'\n",
    "match = re.search(pattern, strg)\n",
    "print(match)"
   ]
  },
  {
   "cell_type": "code",
   "execution_count": 6,
   "id": "4d51a00b-f33e-4b7b-9cca-6bccdb657e6a",
   "metadata": {},
   "outputs": [
    {
     "name": "stdin",
     "output_type": "stream",
     "text": [
      " ahghjgjhgjhb\n"
     ]
    },
    {
     "name": "stdout",
     "output_type": "stream",
     "text": [
      "has the pattern\n"
     ]
    }
   ],
   "source": [
    "import re\n",
    "strg = input()\n",
    "pattern = r'a.+b'\n",
    "match = re.findall(pattern, strg)\n",
    "if match:\n",
    "    print(\"has the pattern\")\n",
    "else:\n",
    "    print(\"has no the pattern\")"
   ]
  },
  {
   "cell_type": "code",
   "execution_count": 7,
   "id": "0418ba1d-81e4-48e2-bff7-dcdb050e71d6",
   "metadata": {},
   "outputs": [
    {
     "name": "stdin",
     "output_type": "stream",
     "text": [
      " Asdasd asdsdaa,sasda.\n"
     ]
    },
    {
     "name": "stdout",
     "output_type": "stream",
     "text": [
      "Asdasd:asdsdaa:sasda:\n"
     ]
    }
   ],
   "source": [
    "import re\n",
    "strg = input()\n",
    "pattern = r'[ ,.]'\n",
    "strg = re.sub(pattern, \":\", strg)\n",
    "print(strg)"
   ]
  },
  {
   "cell_type": "code",
   "execution_count": 8,
   "id": "45537ca5-d592-47a9-8738-57814de3bb20",
   "metadata": {},
   "outputs": [
    {
     "name": "stdin",
     "output_type": "stream",
     "text": [
      " Hello_world_kz\n"
     ]
    },
    {
     "name": "stdout",
     "output_type": "stream",
     "text": [
      "HelloWorldKz\n"
     ]
    }
   ],
   "source": [
    "import re\n",
    "strg = input()\n",
    "pattern = r'_([a-z])'\n",
    "strg = re.sub(pattern, lambda m: m.group(1).upper(), strg)\n",
    "print(strg)"
   ]
  },
  {
   "cell_type": "code",
   "execution_count": 10,
   "id": "2072fbf1-1239-46fe-beda-f29c73af1564",
   "metadata": {},
   "outputs": [
    {
     "name": "stdin",
     "output_type": "stream",
     "text": [
      " HelloDearWorld\n"
     ]
    },
    {
     "name": "stdout",
     "output_type": "stream",
     "text": [
      "['Hello', 'Dear', 'World']\n"
     ]
    }
   ],
   "source": [
    "import re\n",
    "strg = input()\n",
    "pattern = r'([A-Z])'\n",
    "strg = re.findall('[A-Z][^A-Z]*', strg)\n",
    "print(strg)"
   ]
  },
  {
   "cell_type": "code",
   "execution_count": 11,
   "id": "df7b2964-9f2f-448c-83fc-218358c70182",
   "metadata": {},
   "outputs": [
    {
     "name": "stdin",
     "output_type": "stream",
     "text": [
      " HelloDearWorld\n"
     ]
    },
    {
     "name": "stdout",
     "output_type": "stream",
     "text": [
      "Hello Dear World\n"
     ]
    }
   ],
   "source": [
    "import re\n",
    "strg = input()\n",
    "pattern = r'(?<!^)(?=[A-Z])'\n",
    "strg = re.sub(pattern, ' ', strg)\n",
    "print(strg)"
   ]
  },
  {
   "cell_type": "code",
   "execution_count": 12,
   "id": "3780acc3-69d9-40ca-9446-fe20007e517a",
   "metadata": {},
   "outputs": [
    {
     "name": "stdin",
     "output_type": "stream",
     "text": [
      " helloDearWorld\n"
     ]
    },
    {
     "name": "stdout",
     "output_type": "stream",
     "text": [
      "hello_dear_world\n"
     ]
    }
   ],
   "source": [
    "import re\n",
    "strg = input()\n",
    "pattern = r'([A-Z])'\n",
    "strg = re.sub(pattern, lambda m: \"_\"+m.group(1).lower(), strg)\n",
    "print(strg)"
   ]
  },
  {
   "cell_type": "code",
   "execution_count": null,
   "id": "be548bd7-821a-4071-9b3a-a7eedffebf84",
   "metadata": {},
   "outputs": [],
   "source": []
  }
 ],
 "metadata": {
  "kernelspec": {
   "display_name": "Python 3 (ipykernel)",
   "language": "python",
   "name": "python3"
  },
  "language_info": {
   "codemirror_mode": {
    "name": "ipython",
    "version": 3
   },
   "file_extension": ".py",
   "mimetype": "text/x-python",
   "name": "python",
   "nbconvert_exporter": "python",
   "pygments_lexer": "ipython3",
   "version": "3.9.12"
  }
 },
 "nbformat": 4,
 "nbformat_minor": 5
}
