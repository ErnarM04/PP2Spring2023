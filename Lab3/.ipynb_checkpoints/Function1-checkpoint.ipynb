{
 "cells": [
  {
   "cell_type": "code",
   "execution_count": 1,
   "id": "d42b6686-d92e-475e-8641-64be4f0bd6c9",
   "metadata": {},
   "outputs": [
    {
     "name": "stdin",
     "output_type": "stream",
     "text": [
      " 1000\n"
     ]
    },
    {
     "name": "stdout",
     "output_type": "stream",
     "text": [
      "28349.5231\n"
     ]
    }
   ],
   "source": [
    "def ounces(grams):\n",
    "    print(grams * 28.3495231)\n",
    "gramm = float(input())\n",
    "ounces(gramm)"
   ]
  },
  {
   "cell_type": "code",
   "execution_count": 2,
   "id": "afa302be-c00f-4634-a919-ce471c7e4af8",
   "metadata": {},
   "outputs": [
    {
     "name": "stdin",
     "output_type": "stream",
     "text": [
      " 100\n"
     ]
    },
    {
     "name": "stdout",
     "output_type": "stream",
     "text": [
      "37.77777777777778\n"
     ]
    }
   ],
   "source": [
    "def centigrade(f):\n",
    "    print((5 / 9) * (f - 32))\n",
    "faren = float(input())\n",
    "centigrade(faren)\n"
   ]
  },
  {
   "cell_type": "code",
   "execution_count": 3,
   "id": "03e1261e-d45f-44a9-adee-dfb0d8ef183b",
   "metadata": {},
   "outputs": [
    {
     "name": "stdin",
     "output_type": "stream",
     "text": [
      " 35\n",
      " 94\n"
     ]
    },
    {
     "name": "stdout",
     "output_type": "stream",
     "text": [
      "23\n"
     ]
    }
   ],
   "source": [
    "def solve(numheads,numlegs):\n",
    "    for i in range(0, numheads):\n",
    "        if (numheads - i) * 4 + i * 2 == numlegs:\n",
    "            print(i)\n",
    "            break\n",
    "head = int(input())\n",
    "leg = int(input())\n",
    "solve(head, leg)"
   ]
  },
  {
   "cell_type": "code",
   "execution_count": 4,
   "id": "19454068-8776-4762-8e2f-a5cdf9281640",
   "metadata": {},
   "outputs": [
    {
     "name": "stdin",
     "output_type": "stream",
     "text": [
      " 1 2 3 4 5 6 7 8 9 10\n"
     ]
    },
    {
     "name": "stdout",
     "output_type": "stream",
     "text": [
      "1 2 3 5 7 "
     ]
    }
   ],
   "source": [
    "def filter_prime(lst):\n",
    "    for i in range(int(2), int(lst)):\n",
    "        if int(lst) % i == 0:\n",
    "            return False\n",
    "    return True\n",
    "lst = input().split()\n",
    "for i in list(lst):\n",
    "    if filter_prime(i):\n",
    "        print(i, end = \" \")"
   ]
  },
  {
   "cell_type": "code",
   "execution_count": 5,
   "id": "ae85540e-a211-48fd-8f61-ffafdc4dd15d",
   "metadata": {},
   "outputs": [
    {
     "name": "stdin",
     "output_type": "stream",
     "text": [
      " 1 3 3\n"
     ]
    },
    {
     "name": "stdout",
     "output_type": "stream",
     "text": [
      "('1', '3', '3')\n",
      "('1', '3', '3')\n",
      "('3', '1', '3')\n",
      "('3', '3', '1')\n",
      "('3', '1', '3')\n",
      "('3', '3', '1')\n"
     ]
    }
   ],
   "source": [
    "from itertools import permutations\n",
    "def perm(strg):\n",
    "    for i in list(permutations(strg)):\n",
    "        print(i)\n",
    "a = input().split()\n",
    "perm(a)"
   ]
  },
  {
   "cell_type": "code",
   "execution_count": 6,
   "id": "4a8314e7-dadc-484a-9a56-5cf08cfe101d",
   "metadata": {},
   "outputs": [
    {
     "name": "stdin",
     "output_type": "stream",
     "text": [
      " We are ready\n"
     ]
    },
    {
     "name": "stdout",
     "output_type": "stream",
     "text": [
      "['ready', 'are', 'We']\n"
     ]
    }
   ],
   "source": [
    "def reverse(strg):\n",
    "    rev = strg[::-1]\n",
    "    print(rev)\n",
    "a = input().split()\n",
    "reverse(a)"
   ]
  },
  {
   "cell_type": "code",
   "execution_count": 15,
   "id": "2f54a669-d0e2-47b2-9004-d74da5251ff0",
   "metadata": {},
   "outputs": [
    {
     "name": "stdin",
     "output_type": "stream",
     "text": [
      " 1 2 4 0 0 7 5\n"
     ]
    },
    {
     "name": "stdout",
     "output_type": "stream",
     "text": [
      "True\n"
     ]
    }
   ],
   "source": [
    "def spy_game(nums):\n",
    "    for i in range(0, len(nums)):\n",
    "        if int(nums[i]) == 0:\n",
    "            for j in range(i+1, len(nums)):\n",
    "                if int(nums[j]) == 0:\n",
    "                    for k in range(j+1, len(nums)):\n",
    "                        if int(nums[k]) == 7:\n",
    "                            return True\n",
    "    return False\n",
    "nums = input().split()\n",
    "print(spy_game(nums))"
   ]
  },
  {
   "cell_type": "code",
   "execution_count": 8,
   "id": "70ac2537-4e92-4abb-a751-4f7c08f54eff",
   "metadata": {},
   "outputs": [
    {
     "name": "stdin",
     "output_type": "stream",
     "text": [
      " 1 3 3\n"
     ]
    },
    {
     "name": "stdout",
     "output_type": "stream",
     "text": [
      "True\n"
     ]
    }
   ],
   "source": [
    "def has_33(lst):\n",
    "    for i in range(0, len(list(lst))):\n",
    "        if int(lst[i]) == int(lst[i+1]) == 3:\n",
    "            return True\n",
    "    return False\n",
    "a = input().split()\n",
    "print(has_33(a))"
   ]
  },
  {
   "cell_type": "code",
   "execution_count": 9,
   "id": "428999df-87b0-4835-b086-4e32bae99308",
   "metadata": {},
   "outputs": [
    {
     "name": "stdin",
     "output_type": "stream",
     "text": [
      " 3\n"
     ]
    },
    {
     "name": "stdout",
     "output_type": "stream",
     "text": [
      "113.09733552923254\n"
     ]
    }
   ],
   "source": [
    "import math\n",
    "def vol_sph(rad):\n",
    "    print((4/3)*math.pi*(rad**3))\n",
    "radius = float(input())\n",
    "vol_sph(radius)"
   ]
  },
  {
   "cell_type": "code",
   "execution_count": 10,
   "id": "197f8bf4-3cf5-4f67-8cbd-3cc2e98ad69f",
   "metadata": {},
   "outputs": [
    {
     "name": "stdin",
     "output_type": "stream",
     "text": [
      " 1 3 1 3 2 5 4\n"
     ]
    },
    {
     "name": "stdout",
     "output_type": "stream",
     "text": [
      "['1', '3', '2', '5', '4'] "
     ]
    }
   ],
   "source": [
    "def dupl(lst):\n",
    "    lst2 = []\n",
    "    for i in lst:\n",
    "        if i not in lst2:\n",
    "            lst2.append(i)\n",
    "    print(lst2, end=' ')\n",
    "a = input().split()\n",
    "dupl(a)"
   ]
  },
  {
   "cell_type": "code",
   "execution_count": 12,
   "id": "78f80aaf-a959-4630-9918-418cfe5c27db",
   "metadata": {},
   "outputs": [
    {
     "name": "stdin",
     "output_type": "stream",
     "text": [
      " jojo\n"
     ]
    },
    {
     "name": "stdout",
     "output_type": "stream",
     "text": [
      "False\n"
     ]
    }
   ],
   "source": [
    "def palindrome(word):\n",
    "    rev = word[::-1]\n",
    "    if rev == word:\n",
    "        return True\n",
    "    return False\n",
    "wrd = input()\n",
    "print(palindrome(wrd))"
   ]
  },
  {
   "cell_type": "code",
   "execution_count": 13,
   "id": "d040086e-c849-48cd-8c08-7a6f393f37ad",
   "metadata": {},
   "outputs": [
    {
     "name": "stdin",
     "output_type": "stream",
     "text": [
      " 4 9 7\n"
     ]
    },
    {
     "name": "stdout",
     "output_type": "stream",
     "text": [
      "****\n",
      "*********\n",
      "*******\n"
     ]
    }
   ],
   "source": [
    "def histogram(lst):\n",
    "    for i in lst:\n",
    "        print('*' * int(i))\n",
    "a = input().split()\n",
    "histogram(a)"
   ]
  },
  {
   "cell_type": "code",
   "execution_count": 14,
   "id": "6db2c6f9-16d4-42c7-a504-3b7367db0791",
   "metadata": {},
   "outputs": [
    {
     "name": "stdin",
     "output_type": "stream",
     "text": [
      "Hello! What is your name? KBTU\n"
     ]
    },
    {
     "name": "stdout",
     "output_type": "stream",
     "text": [
      "Well, KBTU, I am thinking of a number between 1 and 20.\n"
     ]
    },
    {
     "name": "stdin",
     "output_type": "stream",
     "text": [
      "Take a guess. 12\n"
     ]
    },
    {
     "name": "stdout",
     "output_type": "stream",
     "text": [
      "Your guess is too more.\n"
     ]
    },
    {
     "name": "stdin",
     "output_type": "stream",
     "text": [
      "Take a guess. 9\n"
     ]
    },
    {
     "name": "stdout",
     "output_type": "stream",
     "text": [
      "Your guess is too more.\n"
     ]
    },
    {
     "name": "stdin",
     "output_type": "stream",
     "text": [
      "Take a guess. 5\n"
     ]
    },
    {
     "name": "stdout",
     "output_type": "stream",
     "text": [
      "Your guess is too low.\n"
     ]
    },
    {
     "name": "stdin",
     "output_type": "stream",
     "text": [
      "Take a guess. 7\n"
     ]
    },
    {
     "name": "stdout",
     "output_type": "stream",
     "text": [
      "Your guess is too low.\n"
     ]
    },
    {
     "name": "stdin",
     "output_type": "stream",
     "text": [
      "Take a guess. 8\n"
     ]
    },
    {
     "name": "stdout",
     "output_type": "stream",
     "text": [
      "Good job, KBTU! You guessed my number in 5 guesses!\n"
     ]
    }
   ],
   "source": [
    "import random\n",
    "def game(a, rand, user, cnt):\n",
    "    if a == rand:\n",
    "        print(\"Good job,\", user+\"!\", \"You guessed my number in\", cnt, \"guesses!\")\n",
    "    elif a < rand:\n",
    "        print(\"Your guess is too low.\")\n",
    "    else:\n",
    "        print(\"Your guess is too more.\")\n",
    "user = input(\"Hello! What is your name?\")\n",
    "rand = random.randint(1, 12)\n",
    "a = cnt = 0\n",
    "print(\"Well,\", user+\",\", \"I am thinking of a number between 1 and 20.\")\n",
    "while a != rand:\n",
    "    a = int(input(\"Take a guess.\"))\n",
    "    cnt+=1\n",
    "    game(a, rand, user, cnt)"
   ]
  },
  {
   "cell_type": "code",
   "execution_count": null,
   "id": "42958458-92bf-42ef-a539-bc459ffe52ae",
   "metadata": {},
   "outputs": [],
   "source": []
  }
 ],
 "metadata": {
  "kernelspec": {
   "display_name": "Python 3 (ipykernel)",
   "language": "python",
   "name": "python3"
  },
  "language_info": {
   "codemirror_mode": {
    "name": "ipython",
    "version": 3
   },
   "file_extension": ".py",
   "mimetype": "text/x-python",
   "name": "python",
   "nbconvert_exporter": "python",
   "pygments_lexer": "ipython3",
   "version": "3.9.13"
  }
 },
 "nbformat": 4,
 "nbformat_minor": 5
}
