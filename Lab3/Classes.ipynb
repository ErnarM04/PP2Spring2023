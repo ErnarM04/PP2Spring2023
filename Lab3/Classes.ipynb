{
 "cells": [
  {
   "cell_type": "code",
   "execution_count": 2,
   "id": "8ff600b6-0905-452f-ad1b-b440543a6c74",
   "metadata": {},
   "outputs": [
    {
     "name": "stdin",
     "output_type": "stream",
     "text": [
      " abc\n"
     ]
    },
    {
     "name": "stdout",
     "output_type": "stream",
     "text": [
      "ABC\n"
     ]
    }
   ],
   "source": [
    "class string:\n",
    "    def __init__(self):\n",
    "        self.string = \"\"\n",
    "    def getString(self):\n",
    "        self.string = input()\n",
    "    def printString(self):\n",
    "        print(self.string.upper())\n",
    "x = string()\n",
    "x.getString()\n",
    "x.printString()"
   ]
  },
  {
   "cell_type": "code",
   "execution_count": 3,
   "id": "12f1cbee-7c0d-458e-9722-c05a38add803",
   "metadata": {},
   "outputs": [
    {
     "name": "stdin",
     "output_type": "stream",
     "text": [
      " 4\n"
     ]
    },
    {
     "name": "stdout",
     "output_type": "stream",
     "text": [
      "16\n"
     ]
    }
   ],
   "source": [
    "class Shape:\n",
    "    def __init__(self):\n",
    "        self.area = 0\n",
    "    def printarea(self):\n",
    "        print(self.area)\n",
    "class Square(Shape):\n",
    "    def __init__(self, leng):\n",
    "        self.length = leng\n",
    "    def print_area_square(self):\n",
    "        self.area = self.length ** 2\n",
    "        print(self.area)\n",
    "x = Square(int(input()))\n",
    "x.print_area_square()"
   ]
  },
  {
   "cell_type": "code",
   "execution_count": 6,
   "id": "c3ca6ed8-b59c-49ba-adba-cfd3f34621f4",
   "metadata": {},
   "outputs": [
    {
     "name": "stdin",
     "output_type": "stream",
     "text": [
      " 4\n",
      " 6\n"
     ]
    },
    {
     "name": "stdout",
     "output_type": "stream",
     "text": [
      "24\n"
     ]
    }
   ],
   "source": [
    "class Shape:\n",
    "    def __init__(self):\n",
    "        self.area = 0\n",
    "    def area(self):\n",
    "        print(self.area)\n",
    "class Square(Shape):\n",
    "    def __init__(self, leng):\n",
    "        self.length = leng\n",
    "    def print_area_square(self):\n",
    "        self.area = self.length ** 2\n",
    "        print(self.area)\n",
    "class Rectangle(Shape):\n",
    "    def __init__(self, leng, wid):\n",
    "        self.length = leng\n",
    "        self.width = wid\n",
    "    def area_rectangle(self):\n",
    "        self.area = self.length * self.width\n",
    "        print(self.area)\n",
    "x = Rectangle(int(input()), int(input()))\n",
    "x.area_rectangle()\n",
    "    "
   ]
  },
  {
   "cell_type": "code",
   "execution_count": 9,
   "id": "5bdda56c-52c4-4135-853d-0841581e7e3d",
   "metadata": {},
   "outputs": [
    {
     "name": "stdin",
     "output_type": "stream",
     "text": [
      " 2\n",
      " 3\n"
     ]
    },
    {
     "name": "stdout",
     "output_type": "stream",
     "text": [
      "2.0 3.0\n"
     ]
    },
    {
     "name": "stdin",
     "output_type": "stream",
     "text": [
      " 3\n",
      " 4\n"
     ]
    },
    {
     "name": "stdout",
     "output_type": "stream",
     "text": [
      "3.0 4.0\n",
      "5.0\n"
     ]
    }
   ],
   "source": [
    "from math import sqrt\n",
    "class Point:\n",
    "    def __init__(self, x, y):\n",
    "        self.x = x\n",
    "        self.y = y\n",
    "    def show(self):\n",
    "        print(self.x, self.y)\n",
    "    def move(self, a, b):\n",
    "        self.x = a\n",
    "        self.y = b\n",
    "        print(self.x, self.y)\n",
    "    def dist(self):\n",
    "        print(sqrt(self.x**2+self.y**2))\n",
    "x = Point(float(input()), float(input()))\n",
    "x.show()\n",
    "x.move(float(input()), float(input()))\n",
    "x.dist()"
   ]
  },
  {
   "cell_type": "code",
   "execution_count": 12,
   "id": "88f1ac3a-c729-4d24-94cf-ea1e6a8cb738",
   "metadata": {},
   "outputs": [
    {
     "name": "stdin",
     "output_type": "stream",
     "text": [
      "Your name: Ernar\n",
      "Balance: 42500\n"
     ]
    },
    {
     "name": "stdout",
     "output_type": "stream",
     "text": [
      "Your balance: 42500.0\n"
     ]
    },
    {
     "name": "stdin",
     "output_type": "stream",
     "text": [
      "The amount of the deposit you want: 27500\n"
     ]
    },
    {
     "name": "stdout",
     "output_type": "stream",
     "text": [
      "Your balance: 70000.0\n"
     ]
    },
    {
     "name": "stdin",
     "output_type": "stream",
     "text": [
      "The amount of the deposit you want: 30000\n"
     ]
    },
    {
     "name": "stdout",
     "output_type": "stream",
     "text": [
      "Your balance: 100000.0\n"
     ]
    },
    {
     "name": "stdin",
     "output_type": "stream",
     "text": [
      "The amount you want to withdrawal: 80000\n"
     ]
    },
    {
     "name": "stdout",
     "output_type": "stream",
     "text": [
      "Your balance: 20000.0\n"
     ]
    },
    {
     "name": "stdin",
     "output_type": "stream",
     "text": [
      "The amount you want to withdrawal: 50000\n"
     ]
    },
    {
     "name": "stdout",
     "output_type": "stream",
     "text": [
      "Your balance is insufficient\n"
     ]
    }
   ],
   "source": [
    "class Account:\n",
    "    def __init__(self, owner, balance):\n",
    "        self.owner = owner\n",
    "        self.balance = balance\n",
    "        self.depo = 0\n",
    "        self.withd = 0\n",
    "        print(\"Your balance:\", self.balance)\n",
    "    def deposit(self):\n",
    "        self.depo = float(input(\"The amount of the deposit you want:\"))\n",
    "        self.balance += self.depo\n",
    "        print(\"Your balance:\", self.balance)\n",
    "    def withdrawal(self):\n",
    "        self.withd = float(input(\"The amount you want to withdrawal:\"))\n",
    "        if self.balance >= self.withd:\n",
    "            self.balance -= self.withd\n",
    "            print(\"Your balance:\", self.balance)\n",
    "        else:\n",
    "            print(\"Your balance is insufficient\")\n",
    "x = Account(input(\"Your name:\"), float(input(\"Balance:\")))\n",
    "x.deposit()\n",
    "x.deposit()\n",
    "x.withdrawal()\n",
    "x.withdrawal()"
   ]
  },
  {
   "cell_type": "code",
   "execution_count": null,
   "id": "f655dadc-1c40-4d61-a42b-2cd4d0e8d3b6",
   "metadata": {},
   "outputs": [],
   "source": []
  }
 ],
 "metadata": {
  "kernelspec": {
   "display_name": "Python 3 (ipykernel)",
   "language": "python",
   "name": "python3"
  },
  "language_info": {
   "codemirror_mode": {
    "name": "ipython",
    "version": 3
   },
   "file_extension": ".py",
   "mimetype": "text/x-python",
   "name": "python",
   "nbconvert_exporter": "python",
   "pygments_lexer": "ipython3",
   "version": "3.9.13"
  }
 },
 "nbformat": 4,
 "nbformat_minor": 5
}
