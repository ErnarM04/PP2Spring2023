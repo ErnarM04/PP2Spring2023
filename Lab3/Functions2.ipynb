{
 "cells": [
  {
   "cell_type": "code",
   "execution_count": 1,
   "id": "682f6e40-8c6f-4f63-b3b9-c69cb90c4ca3",
   "metadata": {},
   "outputs": [],
   "source": [
    "movies = [\n",
    "{\n",
    "\"name\": \"Usual Suspects\",\n",
    "\"imdb\": 7.0,\n",
    "\"category\": \"Thriller\"\n",
    "},\n",
    "{\n",
    "\"name\": \"Hitman\",\n",
    "\"imdb\": 6.3,\n",
    "\"category\": \"Action\"\n",
    "},\n",
    "{\n",
    "\"name\": \"Dark Knight\",\n",
    "\"imdb\": 9.0,\n",
    "\"category\": \"Adventure\"\n",
    "},\n",
    "{\n",
    "\"name\": \"The Help\",\n",
    "\"imdb\": 8.0,\n",
    "\"category\": \"Drama\"\n",
    "},\n",
    "{\n",
    "\"name\": \"The Choice\",\n",
    "\"imdb\": 6.2,\n",
    "\"category\": \"Romance\"\n",
    "},\n",
    "{\n",
    "\"name\": \"Colonia\",\n",
    "\"imdb\": 7.4,\n",
    "\"category\": \"Romance\"\n",
    "},\n",
    "{\n",
    "\"name\": \"Love\",\n",
    "\"imdb\": 6.0,\n",
    "\"category\": \"Romance\"\n",
    "},\n",
    "{\n",
    "\"name\": \"Bride Wars\",\n",
    "\"imdb\": 5.4,\n",
    "\"category\": \"Romance\"\n",
    "},\n",
    "{\n",
    "\"name\": \"AlphaJet\",\n",
    "\"imdb\": 3.2,\n",
    "\"category\": \"War\"\n",
    "},\n",
    "{\n",
    "\"name\": \"Ringing Crime\",\n",
    "\"imdb\": 4.0,\n",
    "\"category\": \"Crime\"\n",
    "},\n",
    "{\n",
    "\"name\": \"Joking muck\",\n",
    "\"imdb\": 7.2,\n",
    "\"category\": \"Comedy\"\n",
    "},\n",
    "{\n",
    "\"name\": \"What is the name\",\n",
    "\"imdb\": 9.2,\n",
    "\"category\": \"Suspense\"\n",
    "},\n",
    "{\n",
    "\"name\": \"Detective\",\n",
    "\"imdb\": 7.0,\n",
    "\"category\": \"Suspense\"\n",
    "},\n",
    "{\n",
    "\"name\": \"Exam\",\n",
    "\"imdb\": 4.2,\n",
    "\"category\": \"Thriller\"\n",
    "},\n",
    "{\n",
    "\"name\": \"We Two\",\n",
    "\"imdb\": 7.2,\n",
    "\"category\": \"Romance\"\n",
    "}\n",
    "]\n"
   ]
  },
  {
   "cell_type": "code",
   "execution_count": 2,
   "id": "ba56ed29-8ee7-49cd-94a4-2b740da8ec09",
   "metadata": {},
   "outputs": [
    {
     "name": "stdout",
     "output_type": "stream",
     "text": [
      "What is the name\n",
      "True\n"
     ]
    }
   ],
   "source": [
    "import random\n",
    "def imdb(movies):\n",
    "    i = random.randint(0, len(movies)-1)\n",
    "    print(movies[i][\"name\"])\n",
    "    if movies[i][\"imdb\"] > 5.5:\n",
    "        return True\n",
    "    return False\n",
    "print(imdb(movies))"
   ]
  },
  {
   "cell_type": "code",
   "execution_count": 3,
   "id": "3c07d864-5dd6-4f10-a0b6-4b0847c6e5c2",
   "metadata": {},
   "outputs": [
    {
     "name": "stdout",
     "output_type": "stream",
     "text": [
      "Usual Suspects\n",
      "Hitman\n",
      "Dark Knight\n",
      "The Help\n",
      "The Choice\n",
      "Colonia\n",
      "Love\n",
      "Joking muck\n",
      "What is the name\n",
      "Detective\n",
      "We Two\n"
     ]
    }
   ],
   "source": [
    "def imdb(movies):\n",
    "    if movies[\"imdb\"] > 5.5:\n",
    "        return True\n",
    "    return False\n",
    "for i in range(0, len(movies)):\n",
    "    if(imdb(movies[i])):\n",
    "        print(movies[i][\"name\"])"
   ]
  },
  {
   "cell_type": "code",
   "execution_count": 4,
   "id": "e324fde8-8401-4c29-9989-dea0ebb66b50",
   "metadata": {},
   "outputs": [
    {
     "name": "stdout",
     "output_type": "stream",
     "text": [
      "6.486666666666667\n"
     ]
    }
   ],
   "source": [
    "def average(movies):\n",
    "    summ = cnt = 0\n",
    "    for i in range(0, len(movies)):\n",
    "        summ += float(movies[i][\"imdb\"])\n",
    "        cnt += 1\n",
    "    print(summ / cnt)\n",
    "average(movies)"
   ]
  },
  {
   "cell_type": "code",
   "execution_count": 5,
   "id": "8d633053-9746-421c-a6af-fd1cb3ccfa27",
   "metadata": {},
   "outputs": [
    {
     "name": "stdout",
     "output_type": "stream",
     "text": [
      "{'name': 'Hitman', 'imdb': 6.3, 'category': 'Action'}\n",
      "{'name': 'Dark Knight', 'imdb': 9.0, 'category': 'Adventure'}\n",
      "{'name': 'Joking muck', 'imdb': 7.2, 'category': 'Comedy'}\n",
      "{'name': 'Ringing Crime', 'imdb': 4.0, 'category': 'Crime'}\n",
      "{'name': 'The Help', 'imdb': 8.0, 'category': 'Drama'}\n",
      "{'name': 'The Choice', 'imdb': 6.2, 'category': 'Romance'}\n",
      "{'name': 'Colonia', 'imdb': 7.4, 'category': 'Romance'}\n",
      "{'name': 'Love', 'imdb': 6.0, 'category': 'Romance'}\n",
      "{'name': 'Bride Wars', 'imdb': 5.4, 'category': 'Romance'}\n",
      "{'name': 'We Two', 'imdb': 7.2, 'category': 'Romance'}\n",
      "{'name': 'What is the name', 'imdb': 9.2, 'category': 'Suspense'}\n",
      "{'name': 'Detective', 'imdb': 7.0, 'category': 'Suspense'}\n",
      "{'name': 'Usual Suspects', 'imdb': 7.0, 'category': 'Thriller'}\n",
      "{'name': 'Exam', 'imdb': 4.2, 'category': 'Thriller'}\n",
      "{'name': 'AlphaJet', 'imdb': 3.2, 'category': 'War'}\n"
     ]
    }
   ],
   "source": [
    "def category(movies):\n",
    "    category1 = []\n",
    "    cnt = 0\n",
    "    for i in range(0, len(movies)):\n",
    "        if movies[i][\"category\"] not in category1:\n",
    "            category1.append(movies[i][\"category\"])\n",
    "            cnt += 1\n",
    "    category1.sort()\n",
    "    for j in range(0, cnt):\n",
    "        for k in range(0, len(movies)):\n",
    "            if movies[k][\"category\"] == category1[j]:\n",
    "                print(movies[k])\n",
    "category(movies)"
   ]
  },
  {
   "cell_type": "code",
   "execution_count": 6,
   "id": "169b07d2-125e-4df0-9eea-5e1dfc4e896c",
   "metadata": {},
   "outputs": [
    {
     "name": "stdout",
     "output_type": "stream",
     "text": [
      "6.486666666666667\n"
     ]
    }
   ],
   "source": [
    "def categorya(movies):\n",
    "    category1 = []\n",
    "    cnt = summ = 0\n",
    "    for i in range(0, len(movies)):\n",
    "        if movies[i][\"category\"] not in category1:\n",
    "            category1.append(movies[i][\"category\"])\n",
    "            cnt += 1\n",
    "    count = 0\n",
    "    for j in range(0, cnt):\n",
    "        for k in range(0, len(movies)):\n",
    "            if movies[k][\"category\"] == category1[j]:\n",
    "                summ += float(movies[k][\"imdb\"])\n",
    "                count += 1\n",
    "    print(summ / count)\n",
    "categorya(movies)"
   ]
  }
 ],
 "metadata": {
  "kernelspec": {
   "display_name": "Python 3 (ipykernel)",
   "language": "python",
   "name": "python3"
  },
  "language_info": {
   "codemirror_mode": {
    "name": "ipython",
    "version": 3
   },
   "file_extension": ".py",
   "mimetype": "text/x-python",
   "name": "python",
   "nbconvert_exporter": "python",
   "pygments_lexer": "ipython3",
   "version": "3.9.13"
  }
 },
 "nbformat": 4,
 "nbformat_minor": 5
}
