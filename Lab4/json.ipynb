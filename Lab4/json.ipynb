{
 "cells": [
  {
   "cell_type": "code",
   "execution_count": 2,
   "id": "1543eb43-e01d-411f-9ae8-f9f79ef62dae",
   "metadata": {},
   "outputs": [
    {
     "name": "stdout",
     "output_type": "stream",
     "text": [
      "Interface status\n",
      "================================================================================\n",
      "DN                                                 Description            Speed   MTU\n",
      "-------------------------------------------------- -------------------- ------   ------\n",
      "topology/pod-1/node-201/sys/phys-[eth1/33] \t\t\t\t inherit 9150\n",
      "topology/pod-1/node-201/sys/phys-[eth1/34] \t\t\t\t inherit 9150\n",
      "topology/pod-1/node-201/sys/phys-[eth1/35] \t\t\t\t inherit 9150\n",
      "topology/pod-1/node-201/sys/phys-[eth1/36] \t\t\t\t inherit 9150\n",
      "topology/pod-1/node-201/sys/phys-[eth1/1] \t\t\t\t inherit 9150\n",
      "topology/pod-1/node-201/sys/phys-[eth1/2] \t\t\t\t inherit 9150\n",
      "topology/pod-1/node-201/sys/phys-[eth1/3] \t\t\t\t inherit 9150\n",
      "topology/pod-1/node-201/sys/phys-[eth1/4] \t\t\t\t inherit 9150\n",
      "topology/pod-1/node-201/sys/phys-[eth1/5] \t\t\t\t inherit 9150\n",
      "topology/pod-1/node-201/sys/phys-[eth1/6] \t\t\t\t inherit 9150\n",
      "topology/pod-1/node-201/sys/phys-[eth1/7] \t\t\t\t inherit 9150\n",
      "topology/pod-1/node-201/sys/phys-[eth1/8] \t\t\t\t inherit 9150\n",
      "topology/pod-1/node-201/sys/phys-[eth1/9] \t\t\t\t inherit 9150\n",
      "topology/pod-1/node-201/sys/phys-[eth1/10] \t\t\t\t inherit 9150\n",
      "topology/pod-1/node-201/sys/phys-[eth1/11] \t\t\t\t inherit 9150\n",
      "topology/pod-1/node-201/sys/phys-[eth1/12] \t\t\t\t inherit 9150\n",
      "topology/pod-1/node-201/sys/phys-[eth1/13] \t\t\t\t inherit 9150\n",
      "topology/pod-1/node-201/sys/phys-[eth1/14] \t\t\t\t inherit 9150\n"
     ]
    }
   ],
   "source": [
    "import json\n",
    "with open('sample-data.json', 'r') as f:\n",
    "    data = json.load(f)\n",
    "print(\"Interface status\")\n",
    "print(\"=\" * 80)\n",
    "print(\"DN\", \" \" * 47, \"Description\",\" \"*10,\"Speed\", \" \"*1, \"MTU\")\n",
    "print(\"-\"*50, \"-\"*20, \"-\"*6,\" \"*1 ,\"-\"*6)\n",
    "for interface in data[\"imdata\"]:\n",
    "    for i in interface:\n",
    "        for j in interface[i]:\n",
    "            print(interface[i][j][\"dn\"],\"\\t\"*4, interface[i][j][\"speed\"], interface[i][j][\"mtu\"])"
   ]
  },
  {
   "cell_type": "code",
   "execution_count": null,
   "id": "7fbc612d-58d2-4a3f-a309-d029ab713e34",
   "metadata": {},
   "outputs": [],
   "source": []
  }
 ],
 "metadata": {
  "kernelspec": {
   "display_name": "Python 3 (ipykernel)",
   "language": "python",
   "name": "python3"
  },
  "language_info": {
   "codemirror_mode": {
    "name": "ipython",
    "version": 3
   },
   "file_extension": ".py",
   "mimetype": "text/x-python",
   "name": "python",
   "nbconvert_exporter": "python",
   "pygments_lexer": "ipython3",
   "version": "3.9.12"
  }
 },
 "nbformat": 4,
 "nbformat_minor": 5
}
