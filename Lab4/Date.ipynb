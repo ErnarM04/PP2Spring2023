{
 "cells": [
  {
   "cell_type": "code",
   "execution_count": 1,
   "id": "904e63c0-0025-4bd4-a741-c7568f92f5cd",
   "metadata": {},
   "outputs": [
    {
     "name": "stdout",
     "output_type": "stream",
     "text": [
      "2023-02-17\n"
     ]
    }
   ],
   "source": [
    "import datetime\n",
    "today = datetime.date.today()\n",
    "five_days_ago = today - datetime.timedelta(days=5)\n",
    "print(five_days_ago)"
   ]
  },
  {
   "cell_type": "code",
   "execution_count": 2,
   "id": "6e0bf62d-68d0-443a-b2e9-959ffff9286a",
   "metadata": {},
   "outputs": [
    {
     "name": "stdout",
     "output_type": "stream",
     "text": [
      "2023-02-21 2023-02-22 2023-02-23\n"
     ]
    }
   ],
   "source": [
    "import datetime\n",
    "today = datetime.date.today()\n",
    "yesterday = today - datetime.timedelta(days=1)\n",
    "tommorow = today + datetime.timedelta(days=1)\n",
    "print(yesterday, today, tommorow)"
   ]
  },
  {
   "cell_type": "code",
   "execution_count": 3,
   "id": "70e207de-3cd5-41f4-9487-cf39aa27306b",
   "metadata": {},
   "outputs": [
    {
     "name": "stdout",
     "output_type": "stream",
     "text": [
      "2023-02-22 09:34:38\n"
     ]
    }
   ],
   "source": [
    "import datetime\n",
    "now = datetime.datetime.now()\n",
    "microseconds = now.replace(microsecond=0)\n",
    "print(microseconds)"
   ]
  },
  {
   "cell_type": "code",
   "execution_count": null,
   "id": "486603b2-8bd4-46e6-bd2e-4f9e16284f4f",
   "metadata": {},
   "outputs": [],
   "source": []
  }
 ],
 "metadata": {
  "kernelspec": {
   "display_name": "Python 3 (ipykernel)",
   "language": "python",
   "name": "python3"
  },
  "language_info": {
   "codemirror_mode": {
    "name": "ipython",
    "version": 3
   },
   "file_extension": ".py",
   "mimetype": "text/x-python",
   "name": "python",
   "nbconvert_exporter": "python",
   "pygments_lexer": "ipython3",
   "version": "3.9.13"
  }
 },
 "nbformat": 4,
 "nbformat_minor": 5
}
