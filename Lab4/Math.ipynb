{
 "cells": [
  {
   "cell_type": "code",
   "execution_count": 1,
   "id": "a170152e-9d37-4a5b-801b-fcef4d2dbd6d",
   "metadata": {},
   "outputs": [
    {
     "name": "stdin",
     "output_type": "stream",
     "text": [
      " 45\n"
     ]
    },
    {
     "name": "stdout",
     "output_type": "stream",
     "text": [
      "0.7853981633974483\n"
     ]
    }
   ],
   "source": [
    "from math import pi\n",
    "deg = float(input())\n",
    "print((deg/180)*pi)"
   ]
  },
  {
   "cell_type": "code",
   "execution_count": 2,
   "id": "c95d3265-aa32-4435-bc1c-9a618c35aef4",
   "metadata": {},
   "outputs": [
    {
     "name": "stdin",
     "output_type": "stream",
     "text": [
      "Height:  5\n",
      "Base 1:  5\n",
      "Base 2:  6\n"
     ]
    },
    {
     "name": "stdout",
     "output_type": "stream",
     "text": [
      "27.5\n"
     ]
    }
   ],
   "source": [
    "heig = float(input(\"Height: \"))\n",
    "base1 = float(input(\"Base 1: \"))\n",
    "base2 = float(input(\"Base 2: \"))\n",
    "print((base1 + base2)/2 * heig)"
   ]
  },
  {
   "cell_type": "code",
   "execution_count": 3,
   "id": "bd37b940-66ff-47bc-b064-638917f834fa",
   "metadata": {},
   "outputs": [
    {
     "name": "stdin",
     "output_type": "stream",
     "text": [
      " 4\n",
      " 25\n"
     ]
    },
    {
     "name": "stdout",
     "output_type": "stream",
     "text": [
      "625.0000000000001\n"
     ]
    }
   ],
   "source": [
    "import math\n",
    "n = int(input())\n",
    "length = float(input())\n",
    "h = length / (2 * math.tan(math.pi / n))\n",
    "area_t = 0.5 * length * h\n",
    "print(area_t * n)"
   ]
  },
  {
   "cell_type": "code",
   "execution_count": 4,
   "id": "eab4e524-2925-42e3-bf40-14ef883512a9",
   "metadata": {},
   "outputs": [
    {
     "name": "stdin",
     "output_type": "stream",
     "text": [
      " 5\n",
      " 6\n"
     ]
    },
    {
     "name": "stdout",
     "output_type": "stream",
     "text": [
      "30.0\n"
     ]
    }
   ],
   "source": [
    "a = float(input())\n",
    "h = float(input())\n",
    "print(a * h)"
   ]
  }
 ],
 "metadata": {
  "kernelspec": {
   "display_name": "Python 3 (ipykernel)",
   "language": "python",
   "name": "python3"
  },
  "language_info": {
   "codemirror_mode": {
    "name": "ipython",
    "version": 3
   },
   "file_extension": ".py",
   "mimetype": "text/x-python",
   "name": "python",
   "nbconvert_exporter": "python",
   "pygments_lexer": "ipython3",
   "version": "3.9.13"
  }
 },
 "nbformat": 4,
 "nbformat_minor": 5
}
