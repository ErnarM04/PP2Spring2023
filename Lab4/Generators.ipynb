{
 "cells": [
  {
   "cell_type": "code",
   "execution_count": 1,
   "id": "01bb52b5-0cf1-4688-b49b-7ae1afde9770",
   "metadata": {},
   "outputs": [
    {
     "name": "stdin",
     "output_type": "stream",
     "text": [
      " 20\n"
     ]
    },
    {
     "name": "stdout",
     "output_type": "stream",
     "text": [
      "0 1 4 9 16 25 36 49 64 81 100 121 144 169 196 225 256 289 324 361 400 "
     ]
    }
   ],
   "source": [
    "def square(n):\n",
    "    for i in range(n):\n",
    "        yield i * i\n",
    "n = int(input())\n",
    "for i in square(n+1):\n",
    "    print(i, end=\" \")"
   ]
  },
  {
   "cell_type": "code",
   "execution_count": 3,
   "id": "63720c9b-4df1-4480-887d-d5aa1700fac5",
   "metadata": {},
   "outputs": [
    {
     "name": "stdin",
     "output_type": "stream",
     "text": [
      " 20\n"
     ]
    },
    {
     "name": "stdout",
     "output_type": "stream",
     "text": [
      "2, 4, 6, 8, 10, 12, 14, 16, 18, 20, "
     ]
    }
   ],
   "source": [
    "def even(n):\n",
    "    for i in range(1, n):\n",
    "        if i % 2 == 0:\n",
    "            yield i\n",
    "n = int(input())\n",
    "for i in even(n+1):\n",
    "    print(i, end=\", \")"
   ]
  },
  {
   "cell_type": "code",
   "execution_count": 4,
   "id": "93443654-9485-44b5-9dad-1c6d53df051d",
   "metadata": {},
   "outputs": [
    {
     "name": "stdin",
     "output_type": "stream",
     "text": [
      " 90\n"
     ]
    },
    {
     "name": "stdout",
     "output_type": "stream",
     "text": [
      "0, 12, 24, 36, 48, 60, 72, 84, "
     ]
    }
   ],
   "source": [
    "def even(n):\n",
    "    for i in range(n):\n",
    "        if i % 3 == 0 and i % 4 == 0:\n",
    "            yield i\n",
    "n = int(input())\n",
    "for i in even(n+1):\n",
    "    print(i, end=\", \")"
   ]
  },
  {
   "cell_type": "code",
   "execution_count": 5,
   "id": "62daaa8b-2776-41c1-b53d-71886f908911",
   "metadata": {},
   "outputs": [
    {
     "name": "stdin",
     "output_type": "stream",
     "text": [
      " 10\n",
      " 100\n"
     ]
    },
    {
     "name": "stdout",
     "output_type": "stream",
     "text": [
      "16 25 36 49 64 81 100 "
     ]
    }
   ],
   "source": [
    "from math import sqrt\n",
    "def squares(a, b):\n",
    "    for i in range(a, b):\n",
    "        if int(sqrt(i)) == sqrt(i):\n",
    "            yield i\n",
    "a = int(input())\n",
    "b = int(input())\n",
    "for i in squares(a, b+1):\n",
    "    print(i, end = \" \")"
   ]
  },
  {
   "cell_type": "code",
   "execution_count": 6,
   "id": "105800fe-6971-477a-bad1-0ae46209dd33",
   "metadata": {},
   "outputs": [
    {
     "name": "stdin",
     "output_type": "stream",
     "text": [
      " 20\n"
     ]
    },
    {
     "name": "stdout",
     "output_type": "stream",
     "text": [
      "20 19 18 17 16 15 14 13 12 11 10 9 8 7 6 5 4 3 2 1 0 "
     ]
    }
   ],
   "source": [
    "def reverse(n):\n",
    "    for i in range(n, -1, -1):\n",
    "        yield i\n",
    "n = int(input())\n",
    "rev = reverse(n)\n",
    "for i in rev:\n",
    "    print(i, end=\" \")"
   ]
  }
 ],
 "metadata": {
  "kernelspec": {
   "display_name": "Python 3 (ipykernel)",
   "language": "python",
   "name": "python3"
  },
  "language_info": {
   "codemirror_mode": {
    "name": "ipython",
    "version": 3
   },
   "file_extension": ".py",
   "mimetype": "text/x-python",
   "name": "python",
   "nbconvert_exporter": "python",
   "pygments_lexer": "ipython3",
   "version": "3.9.13"
  }
 },
 "nbformat": 4,
 "nbformat_minor": 5
}
